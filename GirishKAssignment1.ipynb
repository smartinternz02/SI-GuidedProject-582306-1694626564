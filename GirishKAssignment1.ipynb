{
 "cells": [
  {
   "cell_type": "code",
   "execution_count": 2,
   "metadata": {},
   "outputs": [],
   "source": [
    "#Assignment 1 Girish Kulathumani 21BCE1152 CSE core\n",
    "import numpy as np\n",
    "import pandas as pd"
   ]
  },
  {
   "cell_type": "code",
   "execution_count": 4,
   "metadata": {},
   "outputs": [
    {
     "data": {
      "text/html": [
       "<div>\n",
       "<style scoped>\n",
       "    .dataframe tbody tr th:only-of-type {\n",
       "        vertical-align: middle;\n",
       "    }\n",
       "\n",
       "    .dataframe tbody tr th {\n",
       "        vertical-align: top;\n",
       "    }\n",
       "\n",
       "    .dataframe thead th {\n",
       "        text-align: right;\n",
       "    }\n",
       "</style>\n",
       "<table border=\"1\" class=\"dataframe\">\n",
       "  <thead>\n",
       "    <tr style=\"text-align: right;\">\n",
       "      <th></th>\n",
       "      <th>A</th>\n",
       "      <th>B</th>\n",
       "      <th>C</th>\n",
       "      <th>D</th>\n",
       "    </tr>\n",
       "  </thead>\n",
       "  <tbody>\n",
       "    <tr>\n",
       "      <th>0</th>\n",
       "      <td>0.321670</td>\n",
       "      <td>-1.055372</td>\n",
       "      <td>-0.956585</td>\n",
       "      <td>-0.635750</td>\n",
       "    </tr>\n",
       "    <tr>\n",
       "      <th>1</th>\n",
       "      <td>1.037137</td>\n",
       "      <td>0.230000</td>\n",
       "      <td>0.772212</td>\n",
       "      <td>0.939359</td>\n",
       "    </tr>\n",
       "    <tr>\n",
       "      <th>2</th>\n",
       "      <td>0.804665</td>\n",
       "      <td>-0.749205</td>\n",
       "      <td>-2.643021</td>\n",
       "      <td>-0.217471</td>\n",
       "    </tr>\n",
       "    <tr>\n",
       "      <th>3</th>\n",
       "      <td>-0.711701</td>\n",
       "      <td>0.530860</td>\n",
       "      <td>0.892608</td>\n",
       "      <td>-0.117625</td>\n",
       "    </tr>\n",
       "  </tbody>\n",
       "</table>\n",
       "</div>"
      ],
      "text/plain": [
       "          A         B         C         D\n",
       "0  0.321670 -1.055372 -0.956585 -0.635750\n",
       "1  1.037137  0.230000  0.772212  0.939359\n",
       "2  0.804665 -0.749205 -2.643021 -0.217471\n",
       "3 -0.711701  0.530860  0.892608 -0.117625"
      ]
     },
     "execution_count": 4,
     "metadata": {},
     "output_type": "execute_result"
    }
   ],
   "source": [
    "#create the pandas dataframe with numpy random values(4 features and 4 observations)\n",
    "\n",
    "df = pd.DataFrame(np.random.randn(4,4),columns=['A','B','C','D'])\n",
    "df"
   ]
  },
  {
   "cell_type": "code",
   "execution_count": 6,
   "metadata": {},
   "outputs": [
    {
     "data": {
      "text/html": [
       "<div>\n",
       "<style scoped>\n",
       "    .dataframe tbody tr th:only-of-type {\n",
       "        vertical-align: middle;\n",
       "    }\n",
       "\n",
       "    .dataframe tbody tr th {\n",
       "        vertical-align: top;\n",
       "    }\n",
       "\n",
       "    .dataframe thead th {\n",
       "        text-align: right;\n",
       "    }\n",
       "</style>\n",
       "<table border=\"1\" class=\"dataframe\">\n",
       "  <thead>\n",
       "    <tr style=\"text-align: right;\">\n",
       "      <th></th>\n",
       "      <th>random value 1</th>\n",
       "      <th>random value 2</th>\n",
       "      <th>random value 3</th>\n",
       "      <th>random value 4</th>\n",
       "    </tr>\n",
       "  </thead>\n",
       "  <tbody>\n",
       "    <tr>\n",
       "      <th>0</th>\n",
       "      <td>0.321670</td>\n",
       "      <td>-1.055372</td>\n",
       "      <td>-0.956585</td>\n",
       "      <td>-0.635750</td>\n",
       "    </tr>\n",
       "    <tr>\n",
       "      <th>1</th>\n",
       "      <td>1.037137</td>\n",
       "      <td>0.230000</td>\n",
       "      <td>0.772212</td>\n",
       "      <td>0.939359</td>\n",
       "    </tr>\n",
       "    <tr>\n",
       "      <th>2</th>\n",
       "      <td>0.804665</td>\n",
       "      <td>-0.749205</td>\n",
       "      <td>-2.643021</td>\n",
       "      <td>-0.217471</td>\n",
       "    </tr>\n",
       "    <tr>\n",
       "      <th>3</th>\n",
       "      <td>-0.711701</td>\n",
       "      <td>0.530860</td>\n",
       "      <td>0.892608</td>\n",
       "      <td>-0.117625</td>\n",
       "    </tr>\n",
       "  </tbody>\n",
       "</table>\n",
       "</div>"
      ],
      "text/plain": [
       "   random value 1  random value 2  random value 3  random value 4\n",
       "0        0.321670       -1.055372       -0.956585       -0.635750\n",
       "1        1.037137        0.230000        0.772212        0.939359\n",
       "2        0.804665       -0.749205       -2.643021       -0.217471\n",
       "3       -0.711701        0.530860        0.892608       -0.117625"
      ]
     },
     "execution_count": 6,
     "metadata": {},
     "output_type": "execute_result"
    }
   ],
   "source": [
    "#rename the column names of dataframe to 'random value 1', 'random value 2', 'random value 3', 'random value 4'\n",
    "\n",
    "df.columns = ['random value 1', 'random value 2', 'random value 3', 'random value 4']\n",
    "df"
   ]
  },
  {
   "cell_type": "code",
   "execution_count": 8,
   "metadata": {},
   "outputs": [
    {
     "data": {
      "text/html": [
       "<div>\n",
       "<style scoped>\n",
       "    .dataframe tbody tr th:only-of-type {\n",
       "        vertical-align: middle;\n",
       "    }\n",
       "\n",
       "    .dataframe tbody tr th {\n",
       "        vertical-align: top;\n",
       "    }\n",
       "\n",
       "    .dataframe thead th {\n",
       "        text-align: right;\n",
       "    }\n",
       "</style>\n",
       "<table border=\"1\" class=\"dataframe\">\n",
       "  <thead>\n",
       "    <tr style=\"text-align: right;\">\n",
       "      <th></th>\n",
       "      <th>random value 1</th>\n",
       "      <th>random value 2</th>\n",
       "      <th>random value 3</th>\n",
       "      <th>random value 4</th>\n",
       "    </tr>\n",
       "  </thead>\n",
       "  <tbody>\n",
       "    <tr>\n",
       "      <th>count</th>\n",
       "      <td>4.000000</td>\n",
       "      <td>4.000000</td>\n",
       "      <td>4.000000</td>\n",
       "      <td>4.000000</td>\n",
       "    </tr>\n",
       "    <tr>\n",
       "      <th>mean</th>\n",
       "      <td>0.362943</td>\n",
       "      <td>-0.260930</td>\n",
       "      <td>-0.483696</td>\n",
       "      <td>-0.007872</td>\n",
       "    </tr>\n",
       "    <tr>\n",
       "      <th>std</th>\n",
       "      <td>0.775934</td>\n",
       "      <td>0.761029</td>\n",
       "      <td>1.669114</td>\n",
       "      <td>0.670188</td>\n",
       "    </tr>\n",
       "    <tr>\n",
       "      <th>min</th>\n",
       "      <td>-0.711701</td>\n",
       "      <td>-1.055372</td>\n",
       "      <td>-2.643021</td>\n",
       "      <td>-0.635750</td>\n",
       "    </tr>\n",
       "    <tr>\n",
       "      <th>25%</th>\n",
       "      <td>0.063328</td>\n",
       "      <td>-0.825747</td>\n",
       "      <td>-1.378194</td>\n",
       "      <td>-0.322041</td>\n",
       "    </tr>\n",
       "    <tr>\n",
       "      <th>50%</th>\n",
       "      <td>0.563168</td>\n",
       "      <td>-0.259603</td>\n",
       "      <td>-0.092187</td>\n",
       "      <td>-0.167548</td>\n",
       "    </tr>\n",
       "    <tr>\n",
       "      <th>75%</th>\n",
       "      <td>0.862783</td>\n",
       "      <td>0.305215</td>\n",
       "      <td>0.802311</td>\n",
       "      <td>0.146621</td>\n",
       "    </tr>\n",
       "    <tr>\n",
       "      <th>max</th>\n",
       "      <td>1.037137</td>\n",
       "      <td>0.530860</td>\n",
       "      <td>0.892608</td>\n",
       "      <td>0.939359</td>\n",
       "    </tr>\n",
       "  </tbody>\n",
       "</table>\n",
       "</div>"
      ],
      "text/plain": [
       "       random value 1  random value 2  random value 3  random value 4\n",
       "count        4.000000        4.000000        4.000000        4.000000\n",
       "mean         0.362943       -0.260930       -0.483696       -0.007872\n",
       "std          0.775934        0.761029        1.669114        0.670188\n",
       "min         -0.711701       -1.055372       -2.643021       -0.635750\n",
       "25%          0.063328       -0.825747       -1.378194       -0.322041\n",
       "50%          0.563168       -0.259603       -0.092187       -0.167548\n",
       "75%          0.862783        0.305215        0.802311        0.146621\n",
       "max          1.037137        0.530860        0.892608        0.939359"
      ]
     },
     "execution_count": 8,
     "metadata": {},
     "output_type": "execute_result"
    }
   ],
   "source": [
    "#find the descriptive statistics of the dataframe\n",
    "\n",
    "df.describe()"
   ]
  },
  {
   "cell_type": "code",
   "execution_count": 14,
   "metadata": {},
   "outputs": [
    {
     "name": "stdout",
     "output_type": "stream",
     "text": [
      "   random value 1  random value 2  random value 3  random value 4\n",
      "0           False           False           False           False\n",
      "1           False           False           False           False\n",
      "2           False           False           False           False\n",
      "3           False           False           False           False\n",
      "\n",
      "\n",
      "random value 1    float64\n",
      "random value 2    float64\n",
      "random value 3    float64\n",
      "random value 4    float64\n",
      "dtype: object\n"
     ]
    }
   ],
   "source": [
    "#check for the null values in df \n",
    "\n",
    "print(df.isnull())\n",
    "print(\"\\n\")\n",
    "#and find the datatype of the columns\n",
    "print(df.dtypes)"
   ]
  },
  {
   "cell_type": "code",
   "execution_count": 15,
   "metadata": {},
   "outputs": [
    {
     "name": "stdout",
     "output_type": "stream",
     "text": [
      "   random value 2  random value 3\n",
      "0       -1.055372       -0.956585\n",
      "1        0.230000        0.772212\n",
      "2       -0.749205       -2.643021\n",
      "3        0.530860        0.892608\n",
      "   random value 2  random value 3\n",
      "0       -1.055372       -0.956585\n",
      "1        0.230000        0.772212\n",
      "2       -0.749205       -2.643021\n",
      "3        0.530860        0.892608\n"
     ]
    }
   ],
   "source": [
    "#Display the 'Random value 2' & random value 3 columns with loc\n",
    "\n",
    "print(df.loc[:,['random value 2','random value 3']])\n",
    "\n",
    "#and iloc\n",
    "\n",
    "print(df.iloc[:,[1,2]])"
   ]
  }
 ],
 "metadata": {
  "kernelspec": {
   "display_name": "Python 3",
   "language": "python",
   "name": "python3"
  },
  "language_info": {
   "codemirror_mode": {
    "name": "ipython",
    "version": 3
   },
   "file_extension": ".py",
   "mimetype": "text/x-python",
   "name": "python",
   "nbconvert_exporter": "python",
   "pygments_lexer": "ipython3",
   "version": "3.11.5"
  },
  "orig_nbformat": 4
 },
 "nbformat": 4,
 "nbformat_minor": 2
}
